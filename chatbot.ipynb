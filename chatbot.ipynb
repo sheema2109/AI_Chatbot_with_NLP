{
 "cells": [
  {
   "cell_type": "code",
   "execution_count": null,
   "id": "a65562d2-7ff3-4fd1-8336-2a1d60cfcfe1",
   "metadata": {},
   "outputs": [
    {
     "name": "stdout",
     "output_type": "stream",
     "text": [
      "Installing scikit-learn...\n",
      "Installing wikipedia-api...\n",
      "Chatbot: Hello! Type 'bye' to exit.\n"
     ]
    },
    {
     "name": "stdin",
     "output_type": "stream",
     "text": [
      "You:  hi\n"
     ]
    },
    {
     "name": "stdout",
     "output_type": "stream",
     "text": [
      "Chatbot: Hey! How can I assist you today?\n"
     ]
    },
    {
     "name": "stdin",
     "output_type": "stream",
     "text": [
      "You:  how r u\n"
     ]
    },
    {
     "name": "stdout",
     "output_type": "stream",
     "text": [
      "Chatbot: I'm not sure about that. Can you rephrase?\n"
     ]
    },
    {
     "name": "stdin",
     "output_type": "stream",
     "text": [
      "You:  who are you\n"
     ]
    },
    {
     "name": "stdout",
     "output_type": "stream",
     "text": [
      "Chatbot: I am an AI chatbot created to assist you!\n"
     ]
    },
    {
     "name": "stdin",
     "output_type": "stream",
     "text": [
      "You:  How are you\n"
     ]
    },
    {
     "name": "stdout",
     "output_type": "stream",
     "text": [
      "Chatbot: Interesting! Tell me more.\n"
     ]
    },
    {
     "name": "stdin",
     "output_type": "stream",
     "text": [
      "You:  python\n"
     ]
    },
    {
     "name": "stdout",
     "output_type": "stream",
     "text": [
      "Chatbot: Python is a high-level, general-purpose programming language. Its design philosophy emphasizes code readability with the use of significant indentation.\n"
     ]
    }
   ],
   "source": [
    "import os\n",
    "import sys\n",
    "\n",
    "# List of required libraries\n",
    "required_libs = [\"numpy\", \"nltk\", \"spacy\", \"scikit-learn\", \"wikipedia-api\", \"wikipedia\"]\n",
    "\n",
    "# Function to install missing libraries\n",
    "def install_packages():\n",
    "    for lib in required_libs:\n",
    "        try:\n",
    "            __import__(lib.replace(\"-\", \"_\"))  # Try importing the module\n",
    "        except ImportError:\n",
    "            print(f\"Installing {lib}...\")\n",
    "            os.system(f\"{sys.executable} -m pip install {lib}\")  # Install missing library\n",
    "\n",
    "# Install missing packages before running the chatbot\n",
    "install_packages()\n",
    "\n",
    "# Download spaCy model if not already installed\n",
    "import spacy\n",
    "try:\n",
    "    nlp = spacy.load(\"en_core_web_sm\")\n",
    "except OSError:\n",
    "    print(\"Downloading spaCy model 'en_core_web_sm'...\")\n",
    "    os.system(f\"{sys.executable} -m spacy download en_core_web_sm\")\n",
    "    nlp = spacy.load(\"en_core_web_sm\")\n",
    "\n",
    "import random\n",
    "import warnings\n",
    "import numpy as np\n",
    "import wikipedia\n",
    "import nltk\n",
    "from sklearn.feature_extraction.text import TfidfVectorizer\n",
    "from sklearn.metrics.pairwise import cosine_similarity\n",
    "\n",
    "warnings.filterwarnings(\"ignore\")\n",
    "\n",
    "# Predefined chatbot responses\n",
    "responses = {\n",
    "    \"greeting\": [\"Hello!\", \"Hi there!\", \"Hey! How can I assist you today?\"],\n",
    "    \"farewell\": [\"Goodbye!\", \"See you soon!\", \"Take care!\"],\n",
    "    \"name\": [\"I am an AI chatbot created to assist you!\", \"Call me ChatBot!\"],\n",
    "    \"default\": [\"I'm not sure about that. Can you rephrase?\", \"Interesting! Tell me more.\"]\n",
    "}\n",
    "\n",
    "# Sample user input and responses\n",
    "corpus = [\n",
    "    \"hi\", \"hello\", \"hey\", \"good morning\", \"good evening\",\n",
    "    \"bye\", \"goodbye\", \"see you later\",\n",
    "    \"what is your name\", \"who are you\",\n",
    "    \"how are you\", \"how is your day\",\n",
    "    \"can you help me\", \"i need assistance\",\n",
    "    \"tell me a joke\", \"who is albert einstein\", \"what is python\"\n",
    "]\n",
    "response_list = [\n",
    "    \"greeting\", \"greeting\", \"greeting\", \"greeting\", \"greeting\",\n",
    "    \"farewell\", \"farewell\", \"farewell\",\n",
    "    \"name\", \"name\",\n",
    "    \"default\", \"default\",\n",
    "    \"default\", \"default\",\n",
    "    \"joke\", \"wiki\", \"wiki\"\n",
    "]\n",
    "\n",
    "# Additional joke responses\n",
    "responses[\"joke\"] = [\n",
    "    \"Why don't scientists trust atoms? Because they make up everything!\",\n",
    "    \"Why did the chicken join a band? Because it had the drumsticks!\",\n",
    "    \"What do you get when you cross a snowman and a vampire? Frostbite!\"\n",
    "]\n",
    "\n",
    "# Convert text to vectors\n",
    "vectorizer = TfidfVectorizer()\n",
    "X = vectorizer.fit_transform(corpus)\n",
    "\n",
    "def get_wikipedia_answer(query):\n",
    "    \"\"\"Fetches a short summary from Wikipedia for factual questions.\"\"\"\n",
    "    try:\n",
    "        return wikipedia.summary(query, sentences=2)\n",
    "    except:\n",
    "        return \"I couldn't find anything on that. Can you ask something else?\"\n",
    "\n",
    "def get_response(user_input):\n",
    "    \"\"\"Finds the best response using TF-IDF and Cosine Similarity.\"\"\"\n",
    "    user_input = user_input.lower()\n",
    "    input_vector = vectorizer.transform([user_input])\n",
    "    \n",
    "    # Compute similarity\n",
    "    similarities = cosine_similarity(input_vector, X)\n",
    "    best_match_idx = np.argmax(similarities)\n",
    "    \n",
    "    # If similarity is low, use default response\n",
    "    if similarities[0, best_match_idx] < 0.3:\n",
    "        return get_wikipedia_answer(user_input)  # Try fetching from Wikipedia\n",
    "\n",
    "    # Return matched response\n",
    "    intent = response_list[best_match_idx]\n",
    "    \n",
    "    if intent == \"wiki\":\n",
    "        return get_wikipedia_answer(user_input)  # Search Wikipedia\n",
    "    else:\n",
    "        return random.choice(responses[intent])\n",
    "\n",
    "def chatbot():\n",
    "    print(\"Chatbot: Hello! Type 'bye' to exit.\")\n",
    "    while True:\n",
    "        user_input = input(\"You: \").lower()\n",
    "        if user_input in [\"bye\", \"exit\", \"quit\"]:\n",
    "            print(\"Chatbot:\", random.choice(responses[\"farewell\"]))\n",
    "            break\n",
    "        print(\"Chatbot:\", get_response(user_input))\n",
    "\n",
    "if __name__ == \"__main__\":\n",
    "    chatbot()\n",
    "\n"
   ]
  },
  {
   "cell_type": "code",
   "execution_count": null,
   "id": "b0809b64-1cdb-4942-9725-ab78104e6fa2",
   "metadata": {},
   "outputs": [],
   "source": []
  }
 ],
 "metadata": {
  "kernelspec": {
   "display_name": "Python [conda env:base] *",
   "language": "python",
   "name": "conda-base-py"
  },
  "language_info": {
   "codemirror_mode": {
    "name": "ipython",
    "version": 3
   },
   "file_extension": ".py",
   "mimetype": "text/x-python",
   "name": "python",
   "nbconvert_exporter": "python",
   "pygments_lexer": "ipython3",
   "version": "3.12.7"
  }
 },
 "nbformat": 4,
 "nbformat_minor": 5
}
